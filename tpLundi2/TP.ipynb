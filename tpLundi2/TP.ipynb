{
 "cells": [
  {
   "cell_type": "code",
   "execution_count": 1,
   "metadata": {},
   "outputs": [],
   "source": [
    "from pyspark import *"
   ]
  },
  {
   "cell_type": "code",
   "execution_count": 2,
   "metadata": {},
   "outputs": [],
   "source": [
    "sc = SparkContext(master=\"local\", appName=\"test\")\n",
    "sqlContext = SQLContext(sc)"
   ]
  },
  {
   "cell_type": "code",
   "execution_count": 3,
   "metadata": {},
   "outputs": [
    {
     "data": {
      "text/html": [
       "\n",
       "        <div>\n",
       "            <p><b>SparkContext</b></p>\n",
       "\n",
       "            <p><a href=\"http://df2c25c5049b:4040\">Spark UI</a></p>\n",
       "\n",
       "            <dl>\n",
       "              <dt>Version</dt>\n",
       "                <dd><code>v2.4.4</code></dd>\n",
       "              <dt>Master</dt>\n",
       "                <dd><code>local</code></dd>\n",
       "              <dt>AppName</dt>\n",
       "                <dd><code>test</code></dd>\n",
       "            </dl>\n",
       "        </div>\n",
       "        "
      ],
      "text/plain": [
       "<SparkContext master=local appName=test>"
      ]
     },
     "execution_count": 3,
     "metadata": {},
     "output_type": "execute_result"
    }
   ],
   "source": [
    "sc"
   ]
  },
  {
   "cell_type": "code",
   "execution_count": 10,
   "metadata": {},
   "outputs": [],
   "source": [
    "import urllib\n",
    "data = urllib.request.urlretrieve('http://kdd.ics.uci.edu/databases/kddcup99/kddcup.data_10_percent.gz', 'data_10_percent.gz')\n",
    "data_file = './data_10_percent.gz'"
   ]
  },
  {
   "cell_type": "code",
   "execution_count": 116,
   "metadata": {
    "scrolled": true
   },
   "outputs": [
    {
     "data": {
      "text/plain": [
       "[['0',\n",
       "  'tcp',\n",
       "  'http',\n",
       "  'SF',\n",
       "  '181',\n",
       "  '5450',\n",
       "  '0',\n",
       "  '0',\n",
       "  '0',\n",
       "  '0',\n",
       "  '0',\n",
       "  '1',\n",
       "  '0',\n",
       "  '0',\n",
       "  '0',\n",
       "  '0',\n",
       "  '0',\n",
       "  '0',\n",
       "  '0',\n",
       "  '0',\n",
       "  '0',\n",
       "  '0',\n",
       "  '8',\n",
       "  '8',\n",
       "  '0.00',\n",
       "  '0.00',\n",
       "  '0.00',\n",
       "  '0.00',\n",
       "  '1.00',\n",
       "  '0.00',\n",
       "  '0.00',\n",
       "  '9',\n",
       "  '9',\n",
       "  '1.00',\n",
       "  '0.00',\n",
       "  '0.11',\n",
       "  '0.00',\n",
       "  '0.00',\n",
       "  '0.00',\n",
       "  '0.00',\n",
       "  '0.00',\n",
       "  'normal.']]"
      ]
     },
     "execution_count": 116,
     "metadata": {},
     "output_type": "execute_result"
    }
   ],
   "source": [
    "from pyspark.sql import SQLContext\n",
    "sqlContext = SQLContext(sc)\n",
    "\n",
    "lines = sc.textFile(data_file)\n",
    "parts = lines.map(lambda l: l.split(\",\"))\n",
    "parts.take(1)"
   ]
  },
  {
   "cell_type": "code",
   "execution_count": 123,
   "metadata": {},
   "outputs": [
    {
     "data": {
      "text/plain": [
       "[(0, 'tcp', 'http', 'SF', 181, 5450, 'normal.'),\n",
       " (0, 'tcp', 'http', 'SF', 239, 486, 'normal.'),\n",
       " (0, 'tcp', 'http', 'SF', 235, 1337, 'normal.'),\n",
       " (0, 'tcp', 'http', 'SF', 219, 1337, 'normal.'),\n",
       " (0, 'tcp', 'http', 'SF', 217, 2032, 'normal.'),\n",
       " (0, 'tcp', 'http', 'SF', 217, 2032, 'normal.'),\n",
       " (0, 'tcp', 'http', 'SF', 212, 1940, 'normal.'),\n",
       " (0, 'tcp', 'http', 'SF', 159, 4087, 'normal.'),\n",
       " (0, 'tcp', 'http', 'SF', 210, 151, 'normal.'),\n",
       " (0, 'tcp', 'http', 'SF', 212, 786, 'normal.')]"
      ]
     },
     "execution_count": 123,
     "metadata": {},
     "output_type": "execute_result"
    }
   ],
   "source": [
    "datas = parts.map(lambda key: (int(key[0]),key[1],key[2],key[3],int(key[4]),int(key[5]),key[-1]))\n",
    "datas.take(10)"
   ]
  },
  {
   "cell_type": "code",
   "execution_count": 124,
   "metadata": {
    "scrolled": true
   },
   "outputs": [
    {
     "data": {
      "text/plain": [
       "StructType(List(StructField(duration,IntegerType,true),StructField(protocol_type,StringType,true),StructField(service,StringType,true),StructField(flag,StringType,true),StructField(src_bytes,IntegerType,true),StructField(dst_bytes,IntegerType,true),StructField(interactions,StringType,true)))"
      ]
     },
     "execution_count": 124,
     "metadata": {},
     "output_type": "execute_result"
    }
   ],
   "source": [
    "from pyspark.sql.types import *\n",
    "\n",
    "struc = StructType(\n",
    "    [\n",
    "        StructField(\"duration\", IntegerType(), True),\n",
    "        StructField(\"protocol_type\", StringType(), True),\n",
    "        StructField(\"service\", StringType(), True),\n",
    "        StructField(\"flag\", StringType(), True),\n",
    "        StructField(\"src_bytes\", IntegerType(), True),\n",
    "        StructField(\"dst_bytes\", IntegerType(), True),\n",
    "        StructField(\"interactions\", StringType(), True)\n",
    "    ]\n",
    ")\n",
    "struc"
   ]
  },
  {
   "cell_type": "code",
   "execution_count": 125,
   "metadata": {
    "scrolled": true
   },
   "outputs": [
    {
     "data": {
      "text/plain": [
       "DataFrame[duration: int, protocol_type: string, service: string, flag: string, src_bytes: int, dst_bytes: int, interactions: string]"
      ]
     },
     "execution_count": 125,
     "metadata": {},
     "output_type": "execute_result"
    }
   ],
   "source": [
    "df = sqlContext.createDataFrame(datas, struc)\n",
    "df"
   ]
  },
  {
   "cell_type": "code",
   "execution_count": 126,
   "metadata": {},
   "outputs": [
    {
     "data": {
      "text/plain": [
       "['duration',\n",
       " 'protocol_type',\n",
       " 'service',\n",
       " 'flag',\n",
       " 'src_bytes',\n",
       " 'dst_bytes',\n",
       " 'interactions']"
      ]
     },
     "execution_count": 126,
     "metadata": {},
     "output_type": "execute_result"
    }
   ],
   "source": [
    "df.columns"
   ]
  },
  {
   "cell_type": "code",
   "execution_count": 127,
   "metadata": {},
   "outputs": [
    {
     "name": "stdout",
     "output_type": "stream",
     "text": [
      "+--------+-------------+-------+----+---------+---------+------------+\n",
      "|duration|protocol_type|service|flag|src_bytes|dst_bytes|interactions|\n",
      "+--------+-------------+-------+----+---------+---------+------------+\n",
      "|       0|          tcp|   http|  SF|      181|     5450|     normal.|\n",
      "|       0|          tcp|   http|  SF|      239|      486|     normal.|\n",
      "|       0|          tcp|   http|  SF|      235|     1337|     normal.|\n",
      "|       0|          tcp|   http|  SF|      219|     1337|     normal.|\n",
      "|       0|          tcp|   http|  SF|      217|     2032|     normal.|\n",
      "|       0|          tcp|   http|  SF|      217|     2032|     normal.|\n",
      "|       0|          tcp|   http|  SF|      212|     1940|     normal.|\n",
      "|       0|          tcp|   http|  SF|      159|     4087|     normal.|\n",
      "|       0|          tcp|   http|  SF|      210|      151|     normal.|\n",
      "|       0|          tcp|   http|  SF|      212|      786|     normal.|\n",
      "+--------+-------------+-------+----+---------+---------+------------+\n",
      "only showing top 10 rows\n",
      "\n"
     ]
    }
   ],
   "source": [
    "df.show(10)"
   ]
  },
  {
   "cell_type": "code",
   "execution_count": 145,
   "metadata": {},
   "outputs": [],
   "source": [
    "df.createOrReplaceTempView(\"interactions\")\n",
    "# Copie des données, en l'appelant interactions, pour travailler sur une copie des données sans les impactés"
   ]
  },
  {
   "cell_type": "code",
   "execution_count": 283,
   "metadata": {},
   "outputs": [
    {
     "name": "stdout",
     "output_type": "stream",
     "text": [
      "+--------+---------+\n",
      "|duration|dst_bytes|\n",
      "+--------+---------+\n",
      "|    5057|        0|\n",
      "|    5059|        0|\n",
      "|    5051|        0|\n",
      "|    5056|        0|\n",
      "|    5051|        0|\n",
      "|    5039|        0|\n",
      "|    5062|        0|\n",
      "|    5041|        0|\n",
      "|    5056|        0|\n",
      "|    5064|        0|\n",
      "|    5043|        0|\n",
      "|    5061|        0|\n",
      "|    5049|        0|\n",
      "|    5061|        0|\n",
      "|    5048|        0|\n",
      "|    5047|        0|\n",
      "|    5044|        0|\n",
      "|    5063|        0|\n",
      "|    5068|        0|\n",
      "|    5062|        0|\n",
      "+--------+---------+\n",
      "only showing top 20 rows\n",
      "\n"
     ]
    },
    {
     "data": {
      "text/plain": [
       "pyspark.sql.dataframe.DataFrame"
      ]
     },
     "execution_count": 283,
     "metadata": {},
     "output_type": "execute_result"
    }
   ],
   "source": [
    "result = df[\n",
    "    (df['protocol_type'] == 'tcp') \n",
    "    & \n",
    "    (df['duration']>1000) \n",
    "    & \n",
    "    (df['dst_bytes'] == 0)\n",
    "].select(df['duration'], df['dst_bytes'])\n",
    "result.show()\n",
    "type(result)"
   ]
  },
  {
   "cell_type": "code",
   "execution_count": 169,
   "metadata": {},
   "outputs": [
    {
     "data": {
      "text/plain": [
       "139"
      ]
     },
     "execution_count": 169,
     "metadata": {},
     "output_type": "execute_result"
    }
   ],
   "source": [
    "result.count()"
   ]
  },
  {
   "cell_type": "code",
   "execution_count": 306,
   "metadata": {},
   "outputs": [
    {
     "data": {
      "text/plain": [
       "['Duration: 5057 , Dest. bytes: 0',\n",
       " 'Duration: 5059 , Dest. bytes: 0',\n",
       " 'Duration: 5051 , Dest. bytes: 0',\n",
       " 'Duration: 5056 , Dest. bytes: 0',\n",
       " 'Duration: 5051 , Dest. bytes: 0',\n",
       " 'Duration: 5039 , Dest. bytes: 0',\n",
       " 'Duration: 5062 , Dest. bytes: 0',\n",
       " 'Duration: 5041 , Dest. bytes: 0',\n",
       " 'Duration: 5056 , Dest. bytes: 0',\n",
       " 'Duration: 5064 , Dest. bytes: 0',\n",
       " 'Duration: 5043 , Dest. bytes: 0',\n",
       " 'Duration: 5061 , Dest. bytes: 0',\n",
       " 'Duration: 5049 , Dest. bytes: 0',\n",
       " 'Duration: 5061 , Dest. bytes: 0',\n",
       " 'Duration: 5048 , Dest. bytes: 0',\n",
       " 'Duration: 5047 , Dest. bytes: 0',\n",
       " 'Duration: 5044 , Dest. bytes: 0',\n",
       " 'Duration: 5063 , Dest. bytes: 0',\n",
       " 'Duration: 5068 , Dest. bytes: 0',\n",
       " 'Duration: 5062 , Dest. bytes: 0',\n",
       " 'Duration: 5046 , Dest. bytes: 0',\n",
       " 'Duration: 5052 , Dest. bytes: 0',\n",
       " 'Duration: 5044 , Dest. bytes: 0',\n",
       " 'Duration: 5054 , Dest. bytes: 0',\n",
       " 'Duration: 5039 , Dest. bytes: 0',\n",
       " 'Duration: 5058 , Dest. bytes: 0',\n",
       " 'Duration: 5051 , Dest. bytes: 0',\n",
       " 'Duration: 5032 , Dest. bytes: 0',\n",
       " 'Duration: 5063 , Dest. bytes: 0',\n",
       " 'Duration: 5040 , Dest. bytes: 0',\n",
       " 'Duration: 5051 , Dest. bytes: 0',\n",
       " 'Duration: 5066 , Dest. bytes: 0',\n",
       " 'Duration: 5044 , Dest. bytes: 0',\n",
       " 'Duration: 5051 , Dest. bytes: 0',\n",
       " 'Duration: 5036 , Dest. bytes: 0',\n",
       " 'Duration: 5055 , Dest. bytes: 0',\n",
       " 'Duration: 2426 , Dest. bytes: 0',\n",
       " 'Duration: 5047 , Dest. bytes: 0',\n",
       " 'Duration: 5057 , Dest. bytes: 0',\n",
       " 'Duration: 5037 , Dest. bytes: 0',\n",
       " 'Duration: 5057 , Dest. bytes: 0',\n",
       " 'Duration: 5062 , Dest. bytes: 0',\n",
       " 'Duration: 5051 , Dest. bytes: 0',\n",
       " 'Duration: 5051 , Dest. bytes: 0',\n",
       " 'Duration: 5053 , Dest. bytes: 0',\n",
       " 'Duration: 5064 , Dest. bytes: 0',\n",
       " 'Duration: 5044 , Dest. bytes: 0',\n",
       " 'Duration: 5051 , Dest. bytes: 0',\n",
       " 'Duration: 5033 , Dest. bytes: 0',\n",
       " 'Duration: 5066 , Dest. bytes: 0',\n",
       " 'Duration: 5063 , Dest. bytes: 0',\n",
       " 'Duration: 5056 , Dest. bytes: 0',\n",
       " 'Duration: 5042 , Dest. bytes: 0',\n",
       " 'Duration: 5063 , Dest. bytes: 0',\n",
       " 'Duration: 5060 , Dest. bytes: 0',\n",
       " 'Duration: 5056 , Dest. bytes: 0',\n",
       " 'Duration: 5049 , Dest. bytes: 0',\n",
       " 'Duration: 5043 , Dest. bytes: 0',\n",
       " 'Duration: 5039 , Dest. bytes: 0',\n",
       " 'Duration: 5041 , Dest. bytes: 0',\n",
       " 'Duration: 42448 , Dest. bytes: 0',\n",
       " 'Duration: 42088 , Dest. bytes: 0',\n",
       " 'Duration: 41065 , Dest. bytes: 0',\n",
       " 'Duration: 40929 , Dest. bytes: 0',\n",
       " 'Duration: 40806 , Dest. bytes: 0',\n",
       " 'Duration: 40682 , Dest. bytes: 0',\n",
       " 'Duration: 40571 , Dest. bytes: 0',\n",
       " 'Duration: 40448 , Dest. bytes: 0',\n",
       " 'Duration: 40339 , Dest. bytes: 0',\n",
       " 'Duration: 40232 , Dest. bytes: 0',\n",
       " 'Duration: 40121 , Dest. bytes: 0',\n",
       " 'Duration: 36783 , Dest. bytes: 0',\n",
       " 'Duration: 36674 , Dest. bytes: 0',\n",
       " 'Duration: 36570 , Dest. bytes: 0',\n",
       " 'Duration: 36467 , Dest. bytes: 0',\n",
       " 'Duration: 36323 , Dest. bytes: 0',\n",
       " 'Duration: 36204 , Dest. bytes: 0',\n",
       " 'Duration: 32038 , Dest. bytes: 0',\n",
       " 'Duration: 31925 , Dest. bytes: 0',\n",
       " 'Duration: 31809 , Dest. bytes: 0',\n",
       " 'Duration: 31709 , Dest. bytes: 0',\n",
       " 'Duration: 31601 , Dest. bytes: 0',\n",
       " 'Duration: 31501 , Dest. bytes: 0',\n",
       " 'Duration: 31401 , Dest. bytes: 0',\n",
       " 'Duration: 31301 , Dest. bytes: 0',\n",
       " 'Duration: 31194 , Dest. bytes: 0',\n",
       " 'Duration: 31061 , Dest. bytes: 0',\n",
       " 'Duration: 30935 , Dest. bytes: 0',\n",
       " 'Duration: 30835 , Dest. bytes: 0',\n",
       " 'Duration: 30735 , Dest. bytes: 0',\n",
       " 'Duration: 30619 , Dest. bytes: 0',\n",
       " 'Duration: 30518 , Dest. bytes: 0',\n",
       " 'Duration: 30418 , Dest. bytes: 0',\n",
       " 'Duration: 30317 , Dest. bytes: 0',\n",
       " 'Duration: 30217 , Dest. bytes: 0',\n",
       " 'Duration: 30077 , Dest. bytes: 0',\n",
       " 'Duration: 25420 , Dest. bytes: 0',\n",
       " 'Duration: 22921 , Dest. bytes: 0',\n",
       " 'Duration: 22821 , Dest. bytes: 0',\n",
       " 'Duration: 22721 , Dest. bytes: 0',\n",
       " 'Duration: 22616 , Dest. bytes: 0',\n",
       " 'Duration: 22516 , Dest. bytes: 0',\n",
       " 'Duration: 22416 , Dest. bytes: 0',\n",
       " 'Duration: 22316 , Dest. bytes: 0',\n",
       " 'Duration: 22216 , Dest. bytes: 0',\n",
       " 'Duration: 21987 , Dest. bytes: 0',\n",
       " 'Duration: 21887 , Dest. bytes: 0',\n",
       " 'Duration: 21767 , Dest. bytes: 0',\n",
       " 'Duration: 21661 , Dest. bytes: 0',\n",
       " 'Duration: 21561 , Dest. bytes: 0',\n",
       " 'Duration: 21455 , Dest. bytes: 0',\n",
       " 'Duration: 21334 , Dest. bytes: 0',\n",
       " 'Duration: 21223 , Dest. bytes: 0',\n",
       " 'Duration: 21123 , Dest. bytes: 0',\n",
       " 'Duration: 20983 , Dest. bytes: 0',\n",
       " 'Duration: 14682 , Dest. bytes: 0',\n",
       " 'Duration: 14420 , Dest. bytes: 0',\n",
       " 'Duration: 14319 , Dest. bytes: 0',\n",
       " 'Duration: 14198 , Dest. bytes: 0',\n",
       " 'Duration: 14098 , Dest. bytes: 0',\n",
       " 'Duration: 13998 , Dest. bytes: 0',\n",
       " 'Duration: 13898 , Dest. bytes: 0',\n",
       " 'Duration: 13796 , Dest. bytes: 0',\n",
       " 'Duration: 13678 , Dest. bytes: 0',\n",
       " 'Duration: 13578 , Dest. bytes: 0',\n",
       " 'Duration: 13448 , Dest. bytes: 0',\n",
       " 'Duration: 13348 , Dest. bytes: 0',\n",
       " 'Duration: 13241 , Dest. bytes: 0',\n",
       " 'Duration: 13141 , Dest. bytes: 0',\n",
       " 'Duration: 13033 , Dest. bytes: 0',\n",
       " 'Duration: 12933 , Dest. bytes: 0',\n",
       " 'Duration: 12833 , Dest. bytes: 0',\n",
       " 'Duration: 12733 , Dest. bytes: 0',\n",
       " 'Duration: 12001 , Dest. bytes: 0',\n",
       " 'Duration: 5678 , Dest. bytes: 0',\n",
       " 'Duration: 5010 , Dest. bytes: 0',\n",
       " 'Duration: 1298 , Dest. bytes: 0',\n",
       " 'Duration: 1031 , Dest. bytes: 0',\n",
       " 'Duration: 36438 , Dest. bytes: 0']"
      ]
     },
     "execution_count": 306,
     "metadata": {},
     "output_type": "execute_result"
    }
   ],
   "source": [
    "result.rdd.map(lambda r: 'Duration: {0} , Dest. bytes: {1}'.format(r['duration'], r['dst_bytes'])).take(result.count())"
   ]
  },
  {
   "cell_type": "code",
   "execution_count": 269,
   "metadata": {},
   "outputs": [
    {
     "name": "stdout",
     "output_type": "stream",
     "text": [
      "+-------------+------+\n",
      "|protocol_type| count|\n",
      "+-------------+------+\n",
      "|          tcp|190065|\n",
      "|          udp| 20354|\n",
      "|         icmp|283602|\n",
      "+-------------+------+\n",
      "\n",
      "Times to execute the request : 9.568 s\n"
     ]
    }
   ],
   "source": [
    "import time\n",
    "start_time = time.time()\n",
    "\n",
    "df[['protocol_type']].groupby(['protocol_type']).count().show()\n",
    "\n",
    "print('Times to execute the request : %.3f s' % (time.time() - start_time))"
   ]
  },
  {
   "cell_type": "code",
   "execution_count": 270,
   "metadata": {},
   "outputs": [
    {
     "name": "stdout",
     "output_type": "stream",
     "text": [
      "+-------------+-----+\n",
      "|protocol_type|count|\n",
      "+-------------+-----+\n",
      "|          tcp|  139|\n",
      "+-------------+-----+\n",
      "\n",
      "Times to execute the request : 9.610 s\n"
     ]
    }
   ],
   "source": [
    "start_time = time.time()\n",
    "\n",
    "df[(df['protocol_type'] == 'tcp') \\\n",
    "    & \\\n",
    "    (df['duration']>1000) \\\n",
    "    & \\\n",
    "    (df['dst_bytes'] == 0)].groupby(['protocol_type']).count().show()\n",
    "\n",
    "print('Times to execute the request : %.3f s' % (time.time() - start_time))"
   ]
  },
  {
   "cell_type": "code",
   "execution_count": 271,
   "metadata": {},
   "outputs": [],
   "source": [
    "#Afficher les résultats\n"
   ]
  },
  {
   "cell_type": "code",
   "execution_count": 321,
   "metadata": {},
   "outputs": [
    {
     "data": {
      "text/plain": [
       "['Duration: 5057 , Dest. bytes: 0',\n",
       " 'Duration: 5059 , Dest. bytes: 0',\n",
       " 'Duration: 5051 , Dest. bytes: 0',\n",
       " 'Duration: 5056 , Dest. bytes: 0']"
      ]
     },
     "execution_count": 321,
     "metadata": {},
     "output_type": "execute_result"
    }
   ],
   "source": [
    "r = df[(df['protocol_type'] == 'tcp') \\\n",
    "    & \\\n",
    "    (df['duration']>1000) \\\n",
    "    & \\\n",
    "    (df['dst_bytes'] == 0)]\n",
    "# r.show()\n",
    "r.rdd.map(lambda r: 'Duration: {0} , Dest. bytes: {1}'.format(r['duration'], r['dst_bytes'])).take(4)"
   ]
  },
  {
   "cell_type": "code",
   "execution_count": 338,
   "metadata": {},
   "outputs": [
    {
     "name": "stdout",
     "output_type": "stream",
     "text": [
      "+------+------+\n",
      "| label| count|\n",
      "+------+------+\n",
      "|normal| 97278|\n",
      "|attack|396743|\n",
      "+------+------+\n",
      "\n",
      "Times to execute the request : 9.527 s\n"
     ]
    }
   ],
   "source": [
    "from pyspark.sql.functions import udf\n",
    "\n",
    "start_time = time.time()\n",
    "\n",
    "def attack_or_normal_func(s):\n",
    "    return \"normal\" if s == \"normal.\" else \"attack\"\n",
    "\n",
    "udf_attack_or_normal = udf(attack_or_normal_func, StringType())\n",
    "\n",
    "df = df.withColumn('label',udf_attack_or_normal(df.interactions))\n",
    "df.select('label').groupby('label').count().show()\n",
    "\n",
    "print('Times to execute the request : %.3f s' % (time.time() - start_time))"
   ]
  },
  {
   "cell_type": "code",
   "execution_count": 334,
   "metadata": {
    "scrolled": false
   },
   "outputs": [
    {
     "name": "stdout",
     "output_type": "stream",
     "text": [
      "root\n",
      " |-- duration: integer (nullable = true)\n",
      " |-- protocol_type: string (nullable = true)\n",
      " |-- service: string (nullable = true)\n",
      " |-- flag: string (nullable = true)\n",
      " |-- src_bytes: integer (nullable = true)\n",
      " |-- dst_bytes: integer (nullable = true)\n",
      " |-- interactions: string (nullable = true)\n",
      " |-- label: string (nullable = true)\n",
      "\n"
     ]
    }
   ],
   "source": [
    "df.printSchema()"
   ]
  },
  {
   "cell_type": "code",
   "execution_count": 339,
   "metadata": {},
   "outputs": [
    {
     "name": "stdout",
     "output_type": "stream",
     "text": [
      "+------+-------------+------+\n",
      "| label|protocol_type| count|\n",
      "+------+-------------+------+\n",
      "|normal|          udp| 19177|\n",
      "|normal|         icmp|  1288|\n",
      "|normal|          tcp| 76813|\n",
      "|attack|         icmp|282314|\n",
      "|attack|          tcp|113252|\n",
      "|attack|          udp|  1177|\n",
      "+------+-------------+------+\n",
      "\n",
      "Times to execute the request : 9.867 s\n"
     ]
    }
   ],
   "source": [
    "start_time = time.time()\n",
    "\n",
    "df.select(['label', 'protocol_type']).groupby(['label', 'protocol_type']).count().show()\n",
    "\n",
    "\n",
    "print('Times to execute the request : %.3f s' % (time.time() - start_time))"
   ]
  },
  {
   "cell_type": "code",
   "execution_count": null,
   "metadata": {},
   "outputs": [],
   "source": []
  }
 ],
 "metadata": {
  "kernelspec": {
   "display_name": "Python 3",
   "language": "python",
   "name": "python3"
  },
  "language_info": {
   "codemirror_mode": {
    "name": "ipython",
    "version": 3
   },
   "file_extension": ".py",
   "mimetype": "text/x-python",
   "name": "python",
   "nbconvert_exporter": "python",
   "pygments_lexer": "ipython3",
   "version": "3.7.3"
  }
 },
 "nbformat": 4,
 "nbformat_minor": 2
}
