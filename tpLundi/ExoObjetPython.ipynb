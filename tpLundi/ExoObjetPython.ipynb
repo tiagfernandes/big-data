{
 "cells": [
  {
   "cell_type": "markdown",
   "metadata": {},
   "source": [
    "# Exercices"
   ]
  },
  {
   "cell_type": "markdown",
   "metadata": {},
   "source": [
    "## Exo 1"
   ]
  },
  {
   "cell_type": "code",
   "execution_count": 1,
   "metadata": {},
   "outputs": [],
   "source": [
    "class CompteBancaire :\n",
    "    def __init__(self, name = \"Dupont\", montant = 1025):\n",
    "        self.name = name\n",
    "        self.montant = montant\n",
    "        \n",
    "    def depot(self, montant):\n",
    "        self.montant += montant\n",
    "        \n",
    "    def retrait(self, montant):\n",
    "        self.montant -= montant\n",
    "        \n",
    "    def affiche(self):\n",
    "        print(\"Le solde du compte bancaire de \"+str(self.name)+\" est de \"+str(self.montant)+\" euros.\")"
   ]
  },
  {
   "cell_type": "code",
   "execution_count": 2,
   "metadata": {},
   "outputs": [
    {
     "name": "stdout",
     "output_type": "stream",
     "text": [
      "Le solde du compte bancaire de Duchmol est de 950 euros.\n"
     ]
    }
   ],
   "source": [
    "compte1 = CompteBancaire(\"Duchmol\", 800)\n",
    "compte1.depot(350)\n",
    "compte1.retrait(200)\n",
    "compte1.affiche()"
   ]
  },
  {
   "cell_type": "code",
   "execution_count": 3,
   "metadata": {
    "scrolled": true
   },
   "outputs": [
    {
     "name": "stdout",
     "output_type": "stream",
     "text": [
      "Le solde du compte bancaire de Dupont est de 1050 euros.\n"
     ]
    }
   ],
   "source": [
    "compte2 = CompteBancaire()\n",
    "compte2.depot(25)\n",
    "compte2.affiche()"
   ]
  },
  {
   "cell_type": "markdown",
   "metadata": {},
   "source": [
    "## Exo 2"
   ]
  },
  {
   "cell_type": "code",
   "execution_count": 4,
   "metadata": {},
   "outputs": [],
   "source": [
    "class Point :\n",
    "    def __init__(self, x, y, z = 0):\n",
    "        self.x = x\n",
    "        self.y = y\n",
    "        self.z = z\n",
    "        \n",
    "    def ToString(self):\n",
    "        if(self.z != 0):\n",
    "            print(\"P(%.2f, %.2f, %.2f)\" %(self.x,self.y,self.z))\n",
    "        else:\n",
    "            print(\"P(%.2f, %.2f)\" %(self.x,self.y))\n"
   ]
  },
  {
   "cell_type": "code",
   "execution_count": 5,
   "metadata": {},
   "outputs": [
    {
     "name": "stdout",
     "output_type": "stream",
     "text": [
      "P(2.00, 3.00)\n"
     ]
    }
   ],
   "source": [
    "P1=Point(2,3)\n",
    "P1.ToString()"
   ]
  },
  {
   "cell_type": "code",
   "execution_count": 6,
   "metadata": {},
   "outputs": [
    {
     "name": "stdout",
     "output_type": "stream",
     "text": [
      "P(1.00, -5.00, 6.00)\n"
     ]
    }
   ],
   "source": [
    "P2=Point(1,-5,6)\n",
    "P2.ToString()"
   ]
  },
  {
   "cell_type": "markdown",
   "metadata": {},
   "source": [
    "## Exo 3"
   ]
  },
  {
   "cell_type": "code",
   "execution_count": 7,
   "metadata": {},
   "outputs": [],
   "source": [
    "class DateNaissance:\n",
    "    def __init__(self, jour, mois, annee):\n",
    "        self.jour = jour\n",
    "        self.mois = mois\n",
    "        self.annee = annee\n",
    "        \n",
    "    def ToString(self):\n",
    "        print(\"Date de naissance: %02d / %02d / %d\" %(self.jour,self.mois,self.annee))"
   ]
  },
  {
   "cell_type": "code",
   "execution_count": 8,
   "metadata": {},
   "outputs": [],
   "source": [
    "class Personne:\n",
    "    def __init__(self, nom, prenom, dateNaissance):\n",
    "        self.nom = nom\n",
    "        self.prenom = prenom\n",
    "        self.dateNaissance = dateNaissance\n",
    "        \n",
    "    def afficher(self):\n",
    "        print(\"Nom: \" + self.nom)\n",
    "        print(\"Prénom: \" + self.prenom)\n",
    "        self.dateNaissance.ToString()"
   ]
  },
  {
   "cell_type": "code",
   "execution_count": 9,
   "metadata": {},
   "outputs": [],
   "source": [
    "class Employe(Personne):\n",
    "    def __init__(self, nom, prenom, dateNaissance, salaire):\n",
    "        Personne.__init__(self, nom, prenom, dateNaissance)\n",
    "        self.salaire = salaire\n",
    "    \n",
    "    def afficher(self):\n",
    "        super().afficher()\n",
    "        print(\"Salaire: %.2f\" % self.salaire)"
   ]
  },
  {
   "cell_type": "code",
   "execution_count": 10,
   "metadata": {},
   "outputs": [],
   "source": [
    "class Chef(Employe):\n",
    "    def __init__(self, nom, prenom, dateNaissance, salaire, service):\n",
    "        Employe.__init__(self, nom, prenom, dateNaissance, salaire)\n",
    "        self.service = service\n",
    "        \n",
    "    def afficher(self):\n",
    "        super().afficher()\n",
    "        print(\"Service: \" + self.service)"
   ]
  },
  {
   "cell_type": "code",
   "execution_count": 11,
   "metadata": {},
   "outputs": [
    {
     "name": "stdout",
     "output_type": "stream",
     "text": [
      "Nom: Ilyass\n",
      "Prénom: Math\n",
      "Date de naissance: 01 / 07 / 1982\n"
     ]
    }
   ],
   "source": [
    "P = Personne(\"Ilyass\",\"Math\",DateNaissance(1,7,1982))\n",
    "P.afficher()"
   ]
  },
  {
   "cell_type": "code",
   "execution_count": 12,
   "metadata": {},
   "outputs": [
    {
     "name": "stdout",
     "output_type": "stream",
     "text": [
      "Nom: Ilyass\n",
      "Prénom: Math\n",
      "Date de naissance: 01 / 07 / 1985\n",
      "Salaire: 7865.55\n"
     ]
    }
   ],
   "source": [
    "E = Employe(\"Ilyass\",\"Math\",DateNaissance(1,7,1985),7865.548)\n",
    "E.afficher()"
   ]
  },
  {
   "cell_type": "code",
   "execution_count": 13,
   "metadata": {},
   "outputs": [
    {
     "name": "stdout",
     "output_type": "stream",
     "text": [
      "Nom: Ilyass\n",
      "Prénom: Math\n",
      "Date de naissance: 01 / 07 / 1988\n",
      "Salaire: 7865.55\n",
      "Service: Ressource humaine\n"
     ]
    }
   ],
   "source": [
    "Ch = Chef(\"Ilyass\",\"Math\",DateNaissance(1,7,1988),7865.548,\"Ressource humaine\")\n",
    "Ch.afficher()"
   ]
  },
  {
   "cell_type": "markdown",
   "metadata": {},
   "source": [
    "## Exo 4"
   ]
  },
  {
   "cell_type": "code",
   "execution_count": 14,
   "metadata": {},
   "outputs": [],
   "source": [
    "class Courrier:\n",
    "    def __init__(self, poid, modeExpedition, adresseDestination, \n",
    "                 adresseExpedition):\n",
    "        self.poid = poid\n",
    "        self.modeExpedition = modeExpedition\n",
    "        self.adresseDestination = adresseDestination\n",
    "        self.adresseExpedition = adresseExpedition\n",
    "        \n",
    "    def calculTimbre(self):\n",
    "        return\n",
    "        \n",
    "    def ToString(self):\n",
    "        print(\"Adresse destination: \" + self.adresseDestination)\n",
    "        print(\"Adress expedition: \" + self.adresseExpedition)\n",
    "        print(\"Poids: %d\" %(self.poid) + \" grammes\")\n",
    "        print(\"Mode: \" + self.modeExpedition)\n",
    "        print(\"Prix du timbre: %.2f\" % self.calculTimbre())"
   ]
  },
  {
   "cell_type": "code",
   "execution_count": 15,
   "metadata": {},
   "outputs": [],
   "source": [
    "class Lettre(Courrier):\n",
    "    def __init__(self, poid, modeExpedition, adresseDestination, \n",
    "                 adresseExpedition, formats):\n",
    "        Courrier.__init__(self, poid, modeExpedition, adresseDestination, \n",
    "                 adresseExpedition)\n",
    "        self.formats = formats\n",
    "        \n",
    "    def ToString(self):\n",
    "        print(\"Lettre: \")\n",
    "        super().ToString()\n",
    "        print(\"Format: \" + self.formats)\n",
    "        \n",
    "    def calculTimbre(self):\n",
    "        tarifBase = 0\n",
    "        if(self.formats == \"A4\"):\n",
    "            tarifBase = 2.5\n",
    "        elif(self.formats == \"A3\"):\n",
    "            tarifBase = 3.5\n",
    "            \n",
    "        prix = tarifBase * (self.poid / 1000)\n",
    "        if (self.modeExpedition == \"express\"):\n",
    "            prix = prix * 2\n",
    "        return prix"
   ]
  },
  {
   "cell_type": "code",
   "execution_count": 16,
   "metadata": {},
   "outputs": [],
   "source": [
    "class Colis(Courrier):\n",
    "    def __init__(self, poid, modeExpedition, adresseDestination, \n",
    "                 adresseExpedition, volume):\n",
    "        Courrier.__init__(self, poid, modeExpedition, \n",
    "              adresseDestination, adresseExpedition)\n",
    "        self.volume = volume\n",
    "        \n",
    "    def ToString(self):\n",
    "        print(\"Colis: \")\n",
    "        super().ToString()\n",
    "        print(\"Volume: %.2f\" % self.volume + \" litres\")\n",
    "        \n",
    "    def calculTimbre(self):\n",
    "        prix = (0.25 * self.volume) + (self.poid / 1000 * 1)\n",
    "        if (self.modeExpedition == \"express\"):\n",
    "            prix = prix * 2\n",
    "        return prix"
   ]
  },
  {
   "cell_type": "code",
   "execution_count": 17,
   "metadata": {
    "scrolled": true
   },
   "outputs": [
    {
     "name": "stdout",
     "output_type": "stream",
     "text": [
      "Lettre: \n",
      "Adresse destination: Lille\n",
      "Adress expedition: Paris\n",
      "Poids: 80 grammes\n",
      "Mode: normal\n",
      "Prix du timbre: 0.20\n",
      "Format: A4\n"
     ]
    }
   ],
   "source": [
    "L1 = Lettre(80,\"normal\",\"Lille\",\"Paris\",\"A4\")\n",
    "L1.ToString()"
   ]
  },
  {
   "cell_type": "code",
   "execution_count": 18,
   "metadata": {},
   "outputs": [
    {
     "name": "stdout",
     "output_type": "stream",
     "text": [
      "Colis: \n",
      "Adresse destination: Marrakeche\n",
      "Adress expedition: Barcelone\n",
      "Poids: 3500 grammes\n",
      "Mode: express\n",
      "Prix du timbre: 8.12\n",
      "Volume: 2.25 litres\n"
     ]
    }
   ],
   "source": [
    "C1 = Colis(3500,\"express\",\"Marrakeche\",\"Barcelone\",2.25)\n",
    "C1.ToString()"
   ]
  },
  {
   "cell_type": "code",
   "execution_count": null,
   "metadata": {},
   "outputs": [],
   "source": []
  }
 ],
 "metadata": {
  "kernelspec": {
   "display_name": "Python 3",
   "language": "python",
   "name": "python3"
  },
  "language_info": {
   "codemirror_mode": {
    "name": "ipython",
    "version": 3
   },
   "file_extension": ".py",
   "mimetype": "text/x-python",
   "name": "python",
   "nbconvert_exporter": "python",
   "pygments_lexer": "ipython3",
   "version": "3.7.5"
  }
 },
 "nbformat": 4,
 "nbformat_minor": 2
}
